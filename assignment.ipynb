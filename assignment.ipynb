{
 "cells": [
  {
   "cell_type": "markdown",
   "metadata": {},
   "source": [
    "# Assignment of week 1 and 2"
   ]
  },
  {
   "cell_type": "markdown",
   "metadata": {},
   "source": [
    "#        Python Data Type: String - Exercises"
   ]
  },
  {
   "cell_type": "markdown",
   "metadata": {},
   "source": [
    "# Write a Python program to count the number of characters (character frequency) in a string "
   ]
  },
  {
   "cell_type": "code",
   "execution_count": null,
   "metadata": {},
   "outputs": [],
   "source": [
    "s=input()\n",
    "l=list(s)\n",
    "new_list=[]\n",
    "d={}\n",
    "for i in range(len(l)):\n",
    "   if l[i] not in new_list:\n",
    "    d[l[i]]=l.count(l[i])\n",
    "    new_list+=l[i]\n",
    "print(d)"
   ]
  },
  {
   "cell_type": "markdown",
   "metadata": {},
   "source": [
    "# Write a Python function that takes a list of words and returns the length of the longest one"
   ]
  },
  {
   "cell_type": "code",
   "execution_count": null,
   "metadata": {},
   "outputs": [],
   "source": [
    "# def longest_one(words):\n",
    "    res=0\n",
    "    for word in words:\n",
    "        if len(word)>res:\n",
    "            res=len(word)\n",
    "    return res"
   ]
  },
  {
   "cell_type": "markdown",
   "metadata": {},
   "source": [
    "# Write a Python program to count the occurrences of each word in a given sentence"
   ]
  },
  {
   "cell_type": "code",
   "execution_count": null,
   "metadata": {},
   "outputs": [],
   "source": [
    "def count_frequency_of_word(string):\n",
    "    words=s.split(\" \")\n",
    "    dic={}\n",
    "    for word in words:\n",
    "        if word not in dic:\n",
    "            dic[word]=words.count(word)\n",
    "    return dic"
   ]
  },
  {
   "cell_type": "markdown",
   "metadata": {},
   "source": [
    "# Write a Python function to convert a given string to all uppercase if it contains at least 2 uppercase characters in the first 4 characters. "
   ]
  },
  {
   "cell_type": "code",
   "execution_count": null,
   "metadata": {},
   "outputs": [],
   "source": [
    "def do_upper(string):\n",
    "    check=False\n",
    "    new_string=string\n",
    "    for i in range(4):\n",
    "        if string[i]>='A' and string[i]<='Z':\n",
    "            check=True\n",
    "            break\n",
    "    if check:\n",
    "        new_string=string.upper()\n",
    "    return new_string\n"
   ]
  },
  {
   "cell_type": "markdown",
   "metadata": {},
   "source": [
    "# Write a Python program to count and display the vowels of a given text"
   ]
  },
  {
   "cell_type": "code",
   "execution_count": null,
   "metadata": {},
   "outputs": [],
   "source": [
    "s='jugal'\n",
    "l=['a','e','i','o','u']\n",
    "count=0\n",
    "for i in s:\n",
    "    if i in l:\n",
    "        print(i)\n",
    "        count+=1\n",
    "print('vowel in given text : '+str(count))"
   ]
  },
  {
   "cell_type": "markdown",
   "metadata": {},
   "source": [
    "   #               Python Data Type: List - Exercises"
   ]
  },
  {
   "cell_type": "markdown",
   "metadata": {},
   "source": [
    "# Write a Python program to check a list is empty or not"
   ]
  },
  {
   "cell_type": "code",
   "execution_count": null,
   "metadata": {},
   "outputs": [],
   "source": [
    "def is_empty(List):\n",
    "    if len(List)==0:\n",
    "        return True\n",
    "    else:\n",
    "        return False"
   ]
  },
  {
   "cell_type": "markdown",
   "metadata": {},
   "source": [
    "# Write a Python program to remove duplicates from a list"
   ]
  },
  {
   "cell_type": "code",
   "execution_count": null,
   "metadata": {},
   "outputs": [],
   "source": [
    "def remove_duplicate(lst):\n",
    "  i = 0\n",
    "  while i < len(lst):     \n",
    "    if lst[i] in lst[:i]:\n",
    "      del lst[i]          \n",
    "    else:\n",
    "      i += 1            \n",
    "  return lst\n",
    "remove_duplicate(['a','j','u','a','e','l','j'])"
   ]
  },
  {
   "cell_type": "markdown",
   "metadata": {},
   "source": [
    "# Write a Python function that takes two lists and returns True if they have at least one common member"
   ]
  },
  {
   "cell_type": "code",
   "execution_count": null,
   "metadata": {},
   "outputs": [],
   "source": [
    "def match_one(List1,List2):\n",
    "    for first in List1:\n",
    "        if first in List2:\n",
    "            return True\n",
    "    return False"
   ]
  },
  {
   "cell_type": "markdown",
   "metadata": {},
   "source": [
    "# Write a Python program to find the second smallest number in a list"
   ]
  },
  {
   "cell_type": "code",
   "execution_count": null,
   "metadata": {},
   "outputs": [],
   "source": [
    "def second_smallest(List):\n",
    "    Min=min(List)\n",
    "    second_min=List[0]\n",
    "    for i in List:\n",
    "        if i<second_min and i>Min:\n",
    "            second_min=i\n",
    "    return second_min"
   ]
  },
  {
   "cell_type": "markdown",
   "metadata": {},
   "source": [
    "# Write a Python program to find the second largest number in a list."
   ]
  },
  {
   "cell_type": "code",
   "execution_count": null,
   "metadata": {},
   "outputs": [],
   "source": [
    "def second_highest(List):\n",
    "    Max=max(List)\n",
    "    second_max=List[0]\n",
    "    for i in List:\n",
    "        if i>second_max and i<Max:\n",
    "            second_max=i\n",
    "    return second_max"
   ]
  },
  {
   "cell_type": "markdown",
   "metadata": {},
   "source": [
    "# Write a Python program to get the frequency of the elements in a list"
   ]
  },
  {
   "cell_type": "code",
   "execution_count": null,
   "metadata": {},
   "outputs": [],
   "source": [
    "List=[1,3,2,4,5,7,2,4,67,8,4,3,5,6,6,1,9]\n",
    "new=[]\n",
    "for i in List:\n",
    "    count=0\n",
    "    if i not in new:\n",
    "        new.append(i)\n",
    "        for j in range(List.index(i)+1,len(List)):\n",
    "            if List[j]==i:\n",
    "                count+=1\n",
    "        print(\"Frequency of \"+str(i)+\" is \"+str(count+1))\n"
   ]
  },
  {
   "cell_type": "markdown",
   "metadata": {},
   "source": [
    "# Write a Python program to convert a list of multiple integers into a single integer"
   ]
  },
  {
   "cell_type": "code",
   "execution_count": null,
   "metadata": {},
   "outputs": [],
   "source": [
    "List=[11,33,55]\n",
    "\n",
    "res=''\n",
    "for i in List:\n",
    "    res+=str(i)\n",
    "result=int(res)\n",
    "result"
   ]
  },
  {
   "cell_type": "markdown",
   "metadata": {},
   "source": [
    "# Write a Python program to compute the similarity between two lists"
   ]
  },
  {
   "cell_type": "code",
   "execution_count": null,
   "metadata": {},
   "outputs": [],
   "source": [
    "Color1= [\"red\", \"orange\", \"green\", \"blue\", \"white\"]\n",
    "Color2=[\"black\", \"yellow\", \"green\", \"blue\"]\n",
    "\n",
    "Color1_Color2=[]\n",
    "Color2_Color1=[]\n",
    "\n",
    "for c in Color1:\n",
    "    if c not in Color2:\n",
    "        Color1_Color2.append(c)\n",
    "for c in Color2:\n",
    "    if c not in Color1:\n",
    "        Color2_Color1.append(c)\n",
    "print(Color1_Color2)\n",
    "print(Color2_Color1)"
   ]
  },
  {
   "cell_type": "markdown",
   "metadata": {},
   "source": [
    "# Write a Python script to generate and print a dictionary that contains a number (between 1 and n) in the form (x, x*x)\n"
   ]
  },
  {
   "cell_type": "code",
   "execution_count": null,
   "metadata": {},
   "outputs": [],
   "source": [
    "n=5\n",
    "dic={x:x**2 for x in range(n+1) if x!=0}\n",
    "dic\n"
   ]
  },
  {
   "cell_type": "markdown",
   "metadata": {},
   "source": [
    "#         Python functions - Exercises"
   ]
  },
  {
   "cell_type": "markdown",
   "metadata": {},
   "source": [
    "# Write a Python function to find the Max of three numbers."
   ]
  },
  {
   "cell_type": "code",
   "execution_count": null,
   "metadata": {},
   "outputs": [],
   "source": [
    "def max_in_three(num1,num2,num3):\n",
    "    if num1>=num2 and num1>=num3:\n",
    "        return num1\n",
    "    elif num2>=num1 and num2>=num3:\n",
    "        return num2\n",
    "    else:\n",
    "        return num3"
   ]
  },
  {
   "cell_type": "markdown",
   "metadata": {},
   "source": [
    "# Write a Python function to sum all the numbers in a list"
   ]
  },
  {
   "cell_type": "code",
   "execution_count": null,
   "metadata": {},
   "outputs": [],
   "source": [
    "def sum_of_all(List):\n",
    "    res=0\n",
    "    for i in List:\n",
    "        res+=i\n",
    "    return res  "
   ]
  },
  {
   "cell_type": "markdown",
   "metadata": {},
   "source": [
    "# Write a Python function to multiply all the numbers in a list"
   ]
  },
  {
   "cell_type": "code",
   "execution_count": null,
   "metadata": {},
   "outputs": [],
   "source": [
    "def multiply_of_list(List):\n",
    "    res=1\n",
    "    for i in List:\n",
    "        res*=i\n",
    "    return res"
   ]
  },
  {
   "cell_type": "markdown",
   "metadata": {},
   "source": [
    "# Write a Python function that accepts a string and calculate the number of upper case letters and lower case letters"
   ]
  },
  {
   "cell_type": "code",
   "execution_count": null,
   "metadata": {},
   "outputs": [],
   "source": [
    "def count_upper_lower(string):\n",
    "    upper_count=0\n",
    "    lower_count=0\n",
    "    for i in range(len(string)):\n",
    "        if string[i]>='A' and string[i]<='Z':\n",
    "            upper_count+=1\n",
    "        elif string[i]>='a' and string[i]<='z':\n",
    "            lower_count+=1\n",
    "    print(\"Upper case letter : \"+str(upper_count))\n",
    "    print(\"Lower case letter : \"+str(lower_count))"
   ]
  },
  {
   "cell_type": "markdown",
   "metadata": {},
   "source": [
    "# Write a Python program to print the even numbers from a given list"
   ]
  },
  {
   "cell_type": "code",
   "execution_count": null,
   "metadata": {},
   "outputs": [],
   "source": [
    "def print_even(List):\n",
    "    for i in List:\n",
    "        if i%2==0:\n",
    "            print(i)"
   ]
  },
  {
   "cell_type": "markdown",
   "metadata": {},
   "source": [
    "This repo contains an introduction to [Jupyter](https://jupyter.org) and [IPython](https://ipython.org).\n",
    "\n",
    "Outline of some basics:\n",
    "\n",
    "* [Notebook Basics](../examples/Notebook/Notebook%20Basics.ipynb)\n",
    "* [IPython - beyond plain python](../examples/IPython%20Kernel/Beyond%20Plain%20Python.ipynb)\n",
    "* [Markdown Cells](../examples/Notebook/Working%20With%20Markdown%20Cells.ipynb)\n",
    "* [Rich Display System](../examples/IPython%20Kernel/Rich%20Output.ipynb)\n",
    "* [Custom Display logic](../examples/IPython%20Kernel/Custom%20Display%20Logic.ipynb)\n",
    "* [Running a Secure Public Notebook Server](../examples/Notebook/Running%20the%20Notebook%20Server.ipynb#Securing-the-notebook-server)\n",
    "* [How Jupyter works](../examples/Notebook/Multiple%20Languages%2C%20Frontends.ipynb) to run code in different languages."
   ]
  },
  {
   "cell_type": "markdown",
   "metadata": {},
   "source": [
    "You can also get this tutorial and run it on your laptop:\n",
    "\n",
    "    git clone https://github.com/ipython/ipython-in-depth\n",
    "\n",
    "Install IPython and Jupyter:\n",
    "\n",
    "with [conda](https://www.anaconda.com/download):\n",
    "\n",
    "    conda install ipython jupyter\n",
    "\n",
    "with pip:\n",
    "\n",
    "    # first, always upgrade pip!\n",
    "    pip install --upgrade pip\n",
    "    pip install --upgrade ipython jupyter\n",
    "\n",
    "Start the notebook in the tutorial directory:\n",
    "\n",
    "    cd ipython-in-depth\n",
    "    jupyter notebook"
   ]
  }
 ],
 "metadata": {
  "kernelspec": {
   "display_name": "Python 3",
   "language": "python",
   "name": "python3"
  },
  "language_info": {
   "codemirror_mode": {
    "name": "ipython",
    "version": 3
   },
   "file_extension": ".py",
   "mimetype": "text/x-python",
   "name": "python",
   "nbconvert_exporter": "python",
   "pygments_lexer": "ipython3",
   "version": "3.6.10"
  }
 },
 "nbformat": 4,
 "nbformat_minor": 2
}
